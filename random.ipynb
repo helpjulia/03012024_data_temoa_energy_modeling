{
  "nbformat": 4,
  "nbformat_minor": 0,
  "metadata": {
    "colab": {
      "provenance": [],
      "authorship_tag": "ABX9TyOclxyu0MJUOw+M4iwrHWd8",
      "include_colab_link": true
    },
    "kernelspec": {
      "name": "python3",
      "display_name": "Python 3"
    },
    "language_info": {
      "name": "python"
    }
  },
  "cells": [
    {
      "cell_type": "markdown",
      "metadata": {
        "id": "view-in-github",
        "colab_type": "text"
      },
      "source": [
        "<a href=\"https://colab.research.google.com/github/helpjulia/03012024_data_temoa_energy_modeling/blob/master/random.ipynb\" target=\"_parent\"><img src=\"https://colab.research.google.com/assets/colab-badge.svg\" alt=\"Open In Colab\"/></a>"
      ]
    },
    {
      "cell_type": "code",
      "execution_count": 8,
      "metadata": {
        "colab": {
          "base_uri": "https://localhost:8080/"
        },
        "id": "C4f3UaY6i-Kj",
        "outputId": "df7dda9b-6379-4f15-806e-8b91abe441b6"
      },
      "outputs": [
        {
          "output_type": "stream",
          "name": "stdout",
          "text": [
            "2 Var Declarations\n",
            "    x : Size=1, Index=None\n",
            "        Key  : Lower : Value : Upper : Fixed : Stale : Domain\n",
            "        None :     0 :  None :  None : False :  True : NonNegativeReals\n",
            "    y : Size=1, Index=None\n",
            "        Key  : Lower : Value : Upper : Fixed : Stale : Domain\n",
            "        None :     0 :  None :  None : False :  True : NonNegativeReals\n",
            "\n",
            "1 Objective Declarations\n",
            "    z : Size=1, Index=None, Active=True\n",
            "        Key  : Active : Sense    : Expression\n",
            "        None :   True : maximize : 3*x + 5*y\n",
            "\n",
            "3 Constraint Declarations\n",
            "    c1 : Size=1, Index=None, Active=True\n",
            "        Key  : Lower : Body : Upper : Active\n",
            "        None :  -Inf :    x :   4.0 :   True\n",
            "    c2 : Size=1, Index=None, Active=True\n",
            "        Key  : Lower : Body : Upper : Active\n",
            "        None :  -Inf :  2*y :  12.0 :   True\n",
            "    c3 : Size=1, Index=None, Active=True\n",
            "        Key  : Lower : Body      : Upper : Active\n",
            "        None :  -Inf : 3*x + 2*y :  18.0 :   True\n",
            "\n",
            "6 Declarations: x y z c1 c2 c3\n"
          ]
        }
      ],
      "source": [
        "!pip install -q pyomo\n",
        "from pyomo.environ import *\n",
        "\n",
        "#create a model\n",
        "model = ConcreteModel()\n",
        "\n",
        "#create decision variables\n",
        "model.x = Var(within=NonNegativeReals)\n",
        "model.y = Var(within=NonNegativeReals)\n",
        "\n",
        "#create model objective\n",
        "model.z = Objective(expr = 3*model.x + 5*model.y, sense=maximize)\n",
        "\n",
        "#declare constraints\n",
        "model.c1 = Constraint(expr = model.x <= 4)\n",
        "model.c2 = Constraint(expr = 2*model.y <= 12)\n",
        "model.c3 = Constraint(expr = 3*model.x + 2*model.y <= 18)\n",
        "\n",
        "model.pprint()"
      ]
    },
    {
      "cell_type": "code",
      "source": [
        "!apt-get install -y -qq glpk-utils"
      ],
      "metadata": {
        "id": "Zj8G_foclYC9"
      },
      "execution_count": 9,
      "outputs": []
    },
    {
      "cell_type": "code",
      "source": [
        "SolverFactory('glpk', executable='/usr/bin/glpsol').solve(model).write()\n",
        "\n",
        "#display solution\n",
        "print('\\nProfit = ', model.z()) # Access the objective value using model.z()\n",
        "print('.\\nDecision Variables')\n",
        "print('x = ', model.x())\n",
        "print('y = ', model.y())\n",
        "\n",
        "#display constraints\n",
        "print('\\nConstraints')\n",
        "\n",
        "#print('Demand = ', model.demand())\n",
        "print('Constraint 1 = ', model.c1())\n",
        "print('Constraint 2 = ', model.c2())\n",
        "print('Constraint 3 = ', model.c3())"
      ],
      "metadata": {
        "colab": {
          "base_uri": "https://localhost:8080/"
        },
        "id": "ubT7L0b6p7Cf",
        "outputId": "6c43cc8d-f5be-449e-e996-a8b29b2fb8b7"
      },
      "execution_count": 10,
      "outputs": [
        {
          "output_type": "stream",
          "name": "stdout",
          "text": [
            "# ==========================================================\n",
            "# = Solver Results                                         =\n",
            "# ==========================================================\n",
            "# ----------------------------------------------------------\n",
            "#   Problem Information\n",
            "# ----------------------------------------------------------\n",
            "Problem: \n",
            "- Name: unknown\n",
            "  Lower bound: 36.0\n",
            "  Upper bound: 36.0\n",
            "  Number of objectives: 1\n",
            "  Number of constraints: 3\n",
            "  Number of variables: 2\n",
            "  Number of nonzeros: 4\n",
            "  Sense: maximize\n",
            "# ----------------------------------------------------------\n",
            "#   Solver Information\n",
            "# ----------------------------------------------------------\n",
            "Solver: \n",
            "- Status: ok\n",
            "  Termination condition: optimal\n",
            "  Statistics: \n",
            "    Branch and bound: \n",
            "      Number of bounded subproblems: 0\n",
            "      Number of created subproblems: 0\n",
            "  Error rc: 0\n",
            "  Time: 0.0058324337005615234\n",
            "# ----------------------------------------------------------\n",
            "#   Solution Information\n",
            "# ----------------------------------------------------------\n",
            "Solution: \n",
            "- number of solutions: 0\n",
            "  number of solutions displayed: 0\n",
            "\n",
            "Profit =  36.0\n",
            ".\n",
            "Decision Variables\n",
            "x =  2.0\n",
            "y =  6.0\n",
            "\n",
            "Constraints\n",
            "Constraint 1 =  2.0\n",
            "Constraint 2 =  12.0\n",
            "Constraint 3 =  18.0\n"
          ]
        }
      ]
    },
    {
      "cell_type": "code",
      "source": [
        "from pyomo.environ import *\n",
        "infinity = float('inf')\n",
        "\n",
        "model = ConcreteModel()\n",
        "\n",
        "# Factories\n",
        "model.I = Set(initialize=[\"F_A\", \"F_B\"])\n",
        "\n",
        "# Pollutants\n",
        "model.J = Set(initialize=[\"P_1\", \"P_2\"])\n",
        "\n",
        "# ci - Cost to process waste from factory\n",
        "model.c = Param(model.I, model.J, initialize={\"F_A\": 15, \"F_B\": 10})\n",
        "\n",
        "# rij - Rate of reduction in pollutant type if emission is treated at factory\n",
        "model.r = Param(model.I, model.J, initialize={(\"F_A\",'P_1'):0.1,(\"F_A\",'P_2'):0.4,(\"F_B\",'P_1'):0.2, (\"F_B\",'P_2'):0.16})\n",
        "# Lower and upper bound on processed waste\n",
        "model.Wmin = Param(model.I, within=NonNegativeReals, default=0.0)\n",
        "# model.Wmax = Param(model.I, within=NonNegativeReals, default=infinity)\n",
        "# Sj - State requirement to reduce pollutant\n",
        "model.S = Param(model.J, initialize={'P_1':30, 'P_2':40})\n",
        "# Minimize the cost to reduce pollutants\n",
        "def cost_rule(model):\n",
        "    return sum(model.c[i]*model.w[i] for i in model.I)\n",
        "model.cost = Objective(rule=cost_rule)\n",
        "\n",
        "# Satisfy the state's requirements on pollutant reduction\n",
        "def pollutant_rule(model, j):\n",
        "    return sum(model.r[i,j]*model.w[i] for i in model.I) >= model.S[j]\n",
        "model.pollutant = Constraint(model.J, rule=pollutant_rule)\n",
        "\n",
        "# Limit the volume of the decision variables\n",
        "def volume_rule(model, i):\n",
        "    return model.w[i] >= model.Wmin[i]\n",
        "model.volume = Constraint(model.I, rule=waste_rule_min)\n"
      ],
      "metadata": {
        "colab": {
          "base_uri": "https://localhost:8080/",
          "height": 543
        },
        "id": "-NUKQAhvq7jL",
        "outputId": "1ea37138-da89-4466-c644-bd2e5bfc050c"
      },
      "execution_count": 17,
      "outputs": [
        {
          "output_type": "stream",
          "name": "stderr",
          "text": [
            "ERROR:pyomo.core:Rule failed for Param 'c' with index F_A:\n",
            "KeyError: \"Index 'F_A' is not valid for indexed component 'c'\"\n",
            "ERROR:pyomo.core:Constructing component 'c' from data=None failed:\n",
            "    KeyError: \"Index 'F_A' is not valid for indexed component 'c'\"\n"
          ]
        },
        {
          "output_type": "error",
          "ename": "KeyError",
          "evalue": "\"Index 'F_A' is not valid for indexed component 'c'\"",
          "traceback": [
            "\u001b[0;31m---------------------------------------------------------------------------\u001b[0m",
            "\u001b[0;31mKeyError\u001b[0m                                  Traceback (most recent call last)",
            "\u001b[0;32m<ipython-input-17-77c410baeba3>\u001b[0m in \u001b[0;36m<cell line: 13>\u001b[0;34m()\u001b[0m\n\u001b[1;32m     11\u001b[0m \u001b[0;34m\u001b[0m\u001b[0m\n\u001b[1;32m     12\u001b[0m \u001b[0;31m# ci - Cost to process waste from factory\u001b[0m\u001b[0;34m\u001b[0m\u001b[0;34m\u001b[0m\u001b[0m\n\u001b[0;32m---> 13\u001b[0;31m \u001b[0mmodel\u001b[0m\u001b[0;34m.\u001b[0m\u001b[0mc\u001b[0m \u001b[0;34m=\u001b[0m \u001b[0mParam\u001b[0m\u001b[0;34m(\u001b[0m\u001b[0mmodel\u001b[0m\u001b[0;34m.\u001b[0m\u001b[0mI\u001b[0m\u001b[0;34m,\u001b[0m \u001b[0mmodel\u001b[0m\u001b[0;34m.\u001b[0m\u001b[0mJ\u001b[0m\u001b[0;34m,\u001b[0m \u001b[0minitialize\u001b[0m\u001b[0;34m=\u001b[0m\u001b[0;34m{\u001b[0m\u001b[0;34m\"F_A\"\u001b[0m\u001b[0;34m:\u001b[0m \u001b[0;36m15\u001b[0m\u001b[0;34m,\u001b[0m \u001b[0;34m\"F_B\"\u001b[0m\u001b[0;34m:\u001b[0m \u001b[0;36m10\u001b[0m\u001b[0;34m}\u001b[0m\u001b[0;34m)\u001b[0m\u001b[0;34m\u001b[0m\u001b[0;34m\u001b[0m\u001b[0m\n\u001b[0m\u001b[1;32m     14\u001b[0m \u001b[0;34m\u001b[0m\u001b[0m\n\u001b[1;32m     15\u001b[0m \u001b[0;31m# rij - Rate of reduction in pollutant type if emission is treated at factory\u001b[0m\u001b[0;34m\u001b[0m\u001b[0;34m\u001b[0m\u001b[0m\n",
            "\u001b[0;32m/usr/local/lib/python3.10/dist-packages/pyomo/core/base/block.py\u001b[0m in \u001b[0;36m__setattr__\u001b[0;34m(self, name, val)\u001b[0m\n\u001b[1;32m    569\u001b[0m                 \u001b[0;31m# Pyomo components are added with the add_component method.\u001b[0m\u001b[0;34m\u001b[0m\u001b[0;34m\u001b[0m\u001b[0m\n\u001b[1;32m    570\u001b[0m                 \u001b[0;31m#\u001b[0m\u001b[0;34m\u001b[0m\u001b[0;34m\u001b[0m\u001b[0m\n\u001b[0;32m--> 571\u001b[0;31m                 \u001b[0mself\u001b[0m\u001b[0;34m.\u001b[0m\u001b[0madd_component\u001b[0m\u001b[0;34m(\u001b[0m\u001b[0mname\u001b[0m\u001b[0;34m,\u001b[0m \u001b[0mval\u001b[0m\u001b[0;34m)\u001b[0m\u001b[0;34m\u001b[0m\u001b[0;34m\u001b[0m\u001b[0m\n\u001b[0m\u001b[1;32m    572\u001b[0m             \u001b[0;32melse\u001b[0m\u001b[0;34m:\u001b[0m\u001b[0;34m\u001b[0m\u001b[0;34m\u001b[0m\u001b[0m\n\u001b[1;32m    573\u001b[0m                 \u001b[0;31m#\u001b[0m\u001b[0;34m\u001b[0m\u001b[0;34m\u001b[0m\u001b[0m\n",
            "\u001b[0;32m/usr/local/lib/python3.10/dist-packages/pyomo/core/base/block.py\u001b[0m in \u001b[0;36madd_component\u001b[0;34m(self, name, val)\u001b[0m\n\u001b[1;32m   1103\u001b[0m                 )\n\u001b[1;32m   1104\u001b[0m             \u001b[0;32mtry\u001b[0m\u001b[0;34m:\u001b[0m\u001b[0;34m\u001b[0m\u001b[0;34m\u001b[0m\u001b[0m\n\u001b[0;32m-> 1105\u001b[0;31m                 \u001b[0mval\u001b[0m\u001b[0;34m.\u001b[0m\u001b[0mconstruct\u001b[0m\u001b[0;34m(\u001b[0m\u001b[0mdata\u001b[0m\u001b[0;34m)\u001b[0m\u001b[0;34m\u001b[0m\u001b[0;34m\u001b[0m\u001b[0m\n\u001b[0m\u001b[1;32m   1106\u001b[0m             \u001b[0;32mexcept\u001b[0m\u001b[0;34m:\u001b[0m\u001b[0;34m\u001b[0m\u001b[0;34m\u001b[0m\u001b[0m\n\u001b[1;32m   1107\u001b[0m                 \u001b[0merr\u001b[0m \u001b[0;34m=\u001b[0m \u001b[0msys\u001b[0m\u001b[0;34m.\u001b[0m\u001b[0mexc_info\u001b[0m\u001b[0;34m(\u001b[0m\u001b[0;34m)\u001b[0m\u001b[0;34m[\u001b[0m\u001b[0;36m1\u001b[0m\u001b[0;34m]\u001b[0m\u001b[0;34m\u001b[0m\u001b[0;34m\u001b[0m\u001b[0m\n",
            "\u001b[0;32m/usr/local/lib/python3.10/dist-packages/pyomo/core/base/param.py\u001b[0m in \u001b[0;36mconstruct\u001b[0;34m(self, data)\u001b[0m\n\u001b[1;32m    841\u001b[0m             \u001b[0;31m# Step #1: initialize data from rule value\u001b[0m\u001b[0;34m\u001b[0m\u001b[0;34m\u001b[0m\u001b[0m\n\u001b[1;32m    842\u001b[0m             \u001b[0;31m#\u001b[0m\u001b[0;34m\u001b[0m\u001b[0;34m\u001b[0m\u001b[0m\n\u001b[0;32m--> 843\u001b[0;31m             \u001b[0mself\u001b[0m\u001b[0;34m.\u001b[0m\u001b[0m_construct_from_rule_using_setitem\u001b[0m\u001b[0;34m(\u001b[0m\u001b[0;34m)\u001b[0m\u001b[0;34m\u001b[0m\u001b[0;34m\u001b[0m\u001b[0m\n\u001b[0m\u001b[1;32m    844\u001b[0m             \u001b[0;31m#\u001b[0m\u001b[0;34m\u001b[0m\u001b[0;34m\u001b[0m\u001b[0m\n\u001b[1;32m    845\u001b[0m             \u001b[0;31m# Step #2: allow any user-specified (external) data to override\u001b[0m\u001b[0;34m\u001b[0m\u001b[0;34m\u001b[0m\u001b[0m\n",
            "\u001b[0;32m/usr/local/lib/python3.10/dist-packages/pyomo/core/base/indexed_component.py\u001b[0m in \u001b[0;36m_construct_from_rule_using_setitem\u001b[0;34m(self)\u001b[0m\n\u001b[1;32m    766\u001b[0m                 \u001b[0;31m# The index is coming in externally; we need to validate it\u001b[0m\u001b[0;34m\u001b[0m\u001b[0;34m\u001b[0m\u001b[0m\n\u001b[1;32m    767\u001b[0m                 \u001b[0;32mfor\u001b[0m \u001b[0mindex\u001b[0m \u001b[0;32min\u001b[0m \u001b[0mrule\u001b[0m\u001b[0;34m.\u001b[0m\u001b[0mindices\u001b[0m\u001b[0;34m(\u001b[0m\u001b[0;34m)\u001b[0m\u001b[0;34m:\u001b[0m\u001b[0;34m\u001b[0m\u001b[0;34m\u001b[0m\u001b[0m\n\u001b[0;32m--> 768\u001b[0;31m                     \u001b[0mself\u001b[0m\u001b[0;34m[\u001b[0m\u001b[0mindex\u001b[0m\u001b[0;34m]\u001b[0m \u001b[0;34m=\u001b[0m \u001b[0mrule\u001b[0m\u001b[0;34m(\u001b[0m\u001b[0mblock\u001b[0m\u001b[0;34m,\u001b[0m \u001b[0mindex\u001b[0m\u001b[0;34m)\u001b[0m\u001b[0;34m\u001b[0m\u001b[0;34m\u001b[0m\u001b[0m\n\u001b[0m\u001b[1;32m    769\u001b[0m             \u001b[0;32melif\u001b[0m \u001b[0;32mnot\u001b[0m \u001b[0mself\u001b[0m\u001b[0;34m.\u001b[0m\u001b[0mindex_set\u001b[0m\u001b[0;34m(\u001b[0m\u001b[0;34m)\u001b[0m\u001b[0;34m.\u001b[0m\u001b[0misfinite\u001b[0m\u001b[0;34m(\u001b[0m\u001b[0;34m)\u001b[0m\u001b[0;34m:\u001b[0m\u001b[0;34m\u001b[0m\u001b[0;34m\u001b[0m\u001b[0m\n\u001b[1;32m    770\u001b[0m                 \u001b[0;31m# If the index is not finite, then we cannot iterate\u001b[0m\u001b[0;34m\u001b[0m\u001b[0;34m\u001b[0m\u001b[0m\n",
            "\u001b[0;32m/usr/local/lib/python3.10/dist-packages/pyomo/core/base/indexed_component.py\u001b[0m in \u001b[0;36m__setitem__\u001b[0;34m(self, index, val)\u001b[0m\n\u001b[1;32m    686\u001b[0m             \u001b[0;31m# _processUnhashableIndex didn't return a slicer)\u001b[0m\u001b[0;34m\u001b[0m\u001b[0;34m\u001b[0m\u001b[0m\n\u001b[1;32m    687\u001b[0m             \u001b[0;32mif\u001b[0m \u001b[0mindex\u001b[0m\u001b[0;34m.\u001b[0m\u001b[0m__class__\u001b[0m \u001b[0;32mis\u001b[0m \u001b[0;32mnot\u001b[0m \u001b[0mIndexedComponent_slice\u001b[0m\u001b[0;34m:\u001b[0m\u001b[0;34m\u001b[0m\u001b[0;34m\u001b[0m\u001b[0m\n\u001b[0;32m--> 688\u001b[0;31m                 \u001b[0mindex\u001b[0m \u001b[0;34m=\u001b[0m \u001b[0mself\u001b[0m\u001b[0;34m.\u001b[0m\u001b[0m_validate_index\u001b[0m\u001b[0;34m(\u001b[0m\u001b[0mindex\u001b[0m\u001b[0;34m)\u001b[0m\u001b[0;34m\u001b[0m\u001b[0;34m\u001b[0m\u001b[0m\n\u001b[0m\u001b[1;32m    689\u001b[0m         \u001b[0;32melse\u001b[0m\u001b[0;34m:\u001b[0m\u001b[0;34m\u001b[0m\u001b[0;34m\u001b[0m\u001b[0m\n\u001b[1;32m    690\u001b[0m             \u001b[0;32mreturn\u001b[0m \u001b[0mself\u001b[0m\u001b[0;34m.\u001b[0m\u001b[0m_setitem_impl\u001b[0m\u001b[0;34m(\u001b[0m\u001b[0mindex\u001b[0m\u001b[0;34m,\u001b[0m \u001b[0mobj\u001b[0m\u001b[0;34m,\u001b[0m \u001b[0mval\u001b[0m\u001b[0;34m)\u001b[0m\u001b[0;34m\u001b[0m\u001b[0;34m\u001b[0m\u001b[0m\n",
            "\u001b[0;32m/usr/local/lib/python3.10/dist-packages/pyomo/core/base/indexed_component.py\u001b[0m in \u001b[0;36m_validate_index\u001b[0;34m(self, idx)\u001b[0m\n\u001b[1;32m    864\u001b[0m         \u001b[0;31m# Raise an exception\u001b[0m\u001b[0;34m\u001b[0m\u001b[0;34m\u001b[0m\u001b[0m\n\u001b[1;32m    865\u001b[0m         \u001b[0;31m#\u001b[0m\u001b[0;34m\u001b[0m\u001b[0;34m\u001b[0m\u001b[0m\n\u001b[0;32m--> 866\u001b[0;31m         raise KeyError(\n\u001b[0m\u001b[1;32m    867\u001b[0m             \u001b[0;34m\"Index '%s' is not valid for indexed component '%s'\"\u001b[0m\u001b[0;34m\u001b[0m\u001b[0;34m\u001b[0m\u001b[0m\n\u001b[1;32m    868\u001b[0m             \u001b[0;34m%\u001b[0m \u001b[0;34m(\u001b[0m\u001b[0mnormalized_idx\u001b[0m\u001b[0;34m,\u001b[0m \u001b[0mself\u001b[0m\u001b[0;34m.\u001b[0m\u001b[0mname\u001b[0m\u001b[0;34m)\u001b[0m\u001b[0;34m\u001b[0m\u001b[0;34m\u001b[0m\u001b[0m\n",
            "\u001b[0;31mKeyError\u001b[0m: \"Index 'F_A' is not valid for indexed component 'c'\""
          ]
        }
      ]
    },
    {
      "cell_type": "code",
      "source": [
        "from pyomo.environ import *\n",
        "infinity = float('inf')\n",
        "\n",
        "model = ConcreteModel()\n",
        "\n",
        "# Factories\n",
        "model.I = Set(initialize=[\"F_A\", \"F_B\"])\n",
        "\n",
        "# Pollutants\n",
        "model.J = Set(initialize=[\"P_1\", \"P_2\"])\n",
        "\n",
        "# ci - Cost to process waste from factory\n",
        "# Provide values for all combinations of factories and pollutants\n",
        "model.c = Param(model.I, model.J, initialize={\n",
        "    (\"F_A\", \"P_1\"): 15,\n",
        "    (\"F_B\", \"P_1\"): 10,\n",
        "    (\"F_A\", \"P_2\"): 20,  # Add a value for F_A and P_2\n",
        "    (\"F_B\", \"P_2\"): 12   # Add a value for F_B and P_2\n",
        "})\n",
        "\n",
        "# rij - Rate of reduction in pollutant type if emission is treated at factory\n",
        "model.r = Param(model.I, model.J, initialize={(\"F_A\",'P_1'):0.1,(\"F_A\",'P_2'):0.4,(\"F_B\",'P_1'):0.2, (\"F_B\",'P_2'):0.16})\n",
        "# Lower and upper bound on processed waste\n",
        "model.Wmin = Param(model.I, within=NonNegativeReals, default=0.0)\n",
        "# model.Wmax = Param(model.I, within=NonNegativeReals, default=infinity)\n",
        "# Sj - State requirement to reduce pollutant\n",
        "model.S = Param(model.J, initialize={'P_1':30, 'P_2':40})\n",
        "\n",
        "# Decision variable for the amount of waste processed\n",
        "model.w = Var(model.I, within=NonNegativeReals)\n",
        "\n",
        "# Minimize the cost to reduce pollutants\n",
        "def cost_rule(model):\n",
        "    # Iterate over both factories and pollutants\n",
        "    return sum(model.c[i, j] * model.w[i] for i in model.I for j in model.J)\n",
        "model.cost = Objective(rule=cost_rule)\n",
        "\n",
        "# Satisfy the state's requirements on pollutant reduction\n",
        "def pollutant_rule(model, j):\n",
        "    return sum(model.r[i,j]*model.w[i] for i in model.I) >= model.S[j]\n",
        "model.pollutant = Constraint(model.J, rule=pollutant_rule)\n",
        "\n",
        "# Limit the volume of the decision variables\n",
        "def volume_rule(model, i):\n",
        "    return model.w[i] >= model.Wmin[i]\n",
        "# Fix typo in constraint name\n",
        "model.volume = Constraint(model.I, rule=waste_rule_min)\n",
        "\n",
        "SolverFactory('glpk', executable='/usr/bin/glpsol').solve(model).write()\n",
        "print(\"\\nCost = \", model.cost())\n",
        "for i in model.I:\n",
        "    print(i, model.w[i]())"
      ],
      "metadata": {
        "colab": {
          "base_uri": "https://localhost:8080/"
        },
        "id": "5aXEgvX41168",
        "outputId": "7e20c495-95d4-43e8-89e6-d68ce6329c41"
      },
      "execution_count": 32,
      "outputs": [
        {
          "output_type": "stream",
          "name": "stdout",
          "text": [
            "# ==========================================================\n",
            "# = Solver Results                                         =\n",
            "# ==========================================================\n",
            "# ----------------------------------------------------------\n",
            "#   Problem Information\n",
            "# ----------------------------------------------------------\n",
            "Problem: \n",
            "- Name: unknown\n",
            "  Lower bound: 4500.0\n",
            "  Upper bound: 4500.0\n",
            "  Number of objectives: 1\n",
            "  Number of constraints: 4\n",
            "  Number of variables: 2\n",
            "  Number of nonzeros: 6\n",
            "  Sense: minimize\n",
            "# ----------------------------------------------------------\n",
            "#   Solver Information\n",
            "# ----------------------------------------------------------\n",
            "Solver: \n",
            "- Status: ok\n",
            "  Termination condition: optimal\n",
            "  Statistics: \n",
            "    Branch and bound: \n",
            "      Number of bounded subproblems: 0\n",
            "      Number of created subproblems: 0\n",
            "  Error rc: 0\n",
            "  Time: 0.004494667053222656\n",
            "# ----------------------------------------------------------\n",
            "#   Solution Information\n",
            "# ----------------------------------------------------------\n",
            "Solution: \n",
            "- number of solutions: 0\n",
            "  number of solutions displayed: 0\n",
            "\n",
            "Cost =  4500.0\n",
            "F_A 50.0\n",
            "F_B 125.0\n"
          ]
        }
      ]
    },
    {
      "cell_type": "code",
      "source": [
        "from pyomo.environ import *\n",
        "infinity = float('inf')\n",
        "\n",
        "model = AbstractModel()\n",
        "\n",
        "# Factories\n",
        "model.I = Set()\n",
        "\n",
        "# Pollutants\n",
        "model.J = Set()\n",
        "\n",
        "# ci - Cost to process waste from factory\n",
        "model.c = Param(model.I, within=PositiveReals)\n",
        "\n",
        "# rij - Rate of reduction in pollutant type if emission is treated at factory\n",
        "model.r = Param(model.I, model.J, within=NonNegativeReals)\n",
        "# Lower and upper bound on processed waste\n",
        "model.Wmin = Param(model.I, within=NonNegativeReals, default=0.0)\n",
        "model.Wmax = Param(model.I, within=NonNegativeReals, default=infinity)\n",
        "# Sj - State requirement to reduce pollutant\n",
        "model.S = Param(model.J)\n",
        "\n",
        "# wi - Processed waste from Factory\n",
        "model.w = Var(model.I, within=NonNegativeReals)\n",
        "\n",
        "# minimize the cost to reduce pollutants\n",
        "def cost_rule(model):\n",
        "    return sum(model.c[i]*model.w[i] for i in model.I)\n",
        "model.cost = Objective(rule=cost_rule)\n",
        "\n",
        "# satisfy the state's requirements on pollutant reduction\n",
        "def pollutant_rule(model, j):\n",
        "    return sum(model.r[i,j]*model.w[i] for i in model.I) >= model.S[j]\n",
        "model.pollutant = Constraint(model.J, rule=pollutant_rule)\n",
        "\n",
        "# limit the volume of the decision variables\n",
        "def waste_rule_min(model, i):\n",
        "    return model.w[i] >= model.Wmin[i]\n",
        "model.volume = Constraint(model.I, rule=waste_rule_min)\n",
        "\n",
        "SolverFactory('glpk', executable='/usr/bin/glpsol').solve(model).write()\n",
        "print(\"\\nCost = \", model.cost())\n",
        "for i in model.I:\n",
        "    print(i, model.w[i]())"
      ],
      "metadata": {
        "colab": {
          "base_uri": "https://localhost:8080/",
          "height": 448
        },
        "id": "jhLEMAQm2otn",
        "outputId": "aa7887f4-c624-4cfd-9e7f-668943d716a4"
      },
      "execution_count": 26,
      "outputs": [
        {
          "output_type": "error",
          "ename": "RuntimeError",
          "evalue": "Attempting to solve model=unknown with unconstructed component(s)",
          "traceback": [
            "\u001b[0;31m---------------------------------------------------------------------------\u001b[0m",
            "\u001b[0;31mRuntimeError\u001b[0m                              Traceback (most recent call last)",
            "\u001b[0;32m<ipython-input-26-6ce9f1b733a0>\u001b[0m in \u001b[0;36m<cell line: 41>\u001b[0;34m()\u001b[0m\n\u001b[1;32m     39\u001b[0m \u001b[0mmodel\u001b[0m\u001b[0;34m.\u001b[0m\u001b[0mvolume\u001b[0m \u001b[0;34m=\u001b[0m \u001b[0mConstraint\u001b[0m\u001b[0;34m(\u001b[0m\u001b[0mmodel\u001b[0m\u001b[0;34m.\u001b[0m\u001b[0mI\u001b[0m\u001b[0;34m,\u001b[0m \u001b[0mrule\u001b[0m\u001b[0;34m=\u001b[0m\u001b[0mwaste_rule_min\u001b[0m\u001b[0;34m)\u001b[0m\u001b[0;34m\u001b[0m\u001b[0;34m\u001b[0m\u001b[0m\n\u001b[1;32m     40\u001b[0m \u001b[0;34m\u001b[0m\u001b[0m\n\u001b[0;32m---> 41\u001b[0;31m \u001b[0mSolverFactory\u001b[0m\u001b[0;34m(\u001b[0m\u001b[0;34m'glpk'\u001b[0m\u001b[0;34m,\u001b[0m \u001b[0mexecutable\u001b[0m\u001b[0;34m=\u001b[0m\u001b[0;34m'/usr/bin/glpsol'\u001b[0m\u001b[0;34m)\u001b[0m\u001b[0;34m.\u001b[0m\u001b[0msolve\u001b[0m\u001b[0;34m(\u001b[0m\u001b[0mmodel\u001b[0m\u001b[0;34m)\u001b[0m\u001b[0;34m.\u001b[0m\u001b[0mwrite\u001b[0m\u001b[0;34m(\u001b[0m\u001b[0;34m)\u001b[0m\u001b[0;34m\u001b[0m\u001b[0;34m\u001b[0m\u001b[0m\n\u001b[0m\u001b[1;32m     42\u001b[0m \u001b[0mprint\u001b[0m\u001b[0;34m(\u001b[0m\u001b[0;34m\"\\nCost = \"\u001b[0m\u001b[0;34m,\u001b[0m \u001b[0mmodel\u001b[0m\u001b[0;34m.\u001b[0m\u001b[0mcost\u001b[0m\u001b[0;34m(\u001b[0m\u001b[0;34m)\u001b[0m\u001b[0;34m)\u001b[0m\u001b[0;34m\u001b[0m\u001b[0;34m\u001b[0m\u001b[0m\n\u001b[1;32m     43\u001b[0m \u001b[0;32mfor\u001b[0m \u001b[0mi\u001b[0m \u001b[0;32min\u001b[0m \u001b[0mmodel\u001b[0m\u001b[0;34m.\u001b[0m\u001b[0mI\u001b[0m\u001b[0;34m:\u001b[0m\u001b[0;34m\u001b[0m\u001b[0;34m\u001b[0m\u001b[0m\n",
            "\u001b[0;32m/usr/local/lib/python3.10/dist-packages/pyomo/opt/base/solvers.py\u001b[0m in \u001b[0;36msolve\u001b[0;34m(self, *args, **kwds)\u001b[0m\n\u001b[1;32m    547\u001b[0m                 \u001b[0;32mif\u001b[0m \u001b[0misinstance\u001b[0m\u001b[0;34m(\u001b[0m\u001b[0marg\u001b[0m\u001b[0;34m,\u001b[0m \u001b[0mBlockData\u001b[0m\u001b[0;34m)\u001b[0m\u001b[0;34m:\u001b[0m\u001b[0;34m\u001b[0m\u001b[0;34m\u001b[0m\u001b[0m\n\u001b[1;32m    548\u001b[0m                     \u001b[0;32mif\u001b[0m \u001b[0;32mnot\u001b[0m \u001b[0marg\u001b[0m\u001b[0;34m.\u001b[0m\u001b[0mis_constructed\u001b[0m\u001b[0;34m(\u001b[0m\u001b[0;34m)\u001b[0m\u001b[0;34m:\u001b[0m\u001b[0;34m\u001b[0m\u001b[0;34m\u001b[0m\u001b[0m\n\u001b[0;32m--> 549\u001b[0;31m                         raise RuntimeError(\n\u001b[0m\u001b[1;32m    550\u001b[0m                             \u001b[0;34m\"Attempting to solve model=%s with unconstructed \"\u001b[0m\u001b[0;34m\u001b[0m\u001b[0;34m\u001b[0m\u001b[0m\n\u001b[1;32m    551\u001b[0m                             \u001b[0;34m\"component(s)\"\u001b[0m \u001b[0;34m%\u001b[0m \u001b[0;34m(\u001b[0m\u001b[0marg\u001b[0m\u001b[0;34m.\u001b[0m\u001b[0mname\u001b[0m\u001b[0;34m,\u001b[0m\u001b[0;34m)\u001b[0m\u001b[0;34m\u001b[0m\u001b[0;34m\u001b[0m\u001b[0m\n",
            "\u001b[0;31mRuntimeError\u001b[0m: Attempting to solve model=unknown with unconstructed component(s)"
          ]
        }
      ]
    },
    {
      "cell_type": "code",
      "source": [
        "from itertools import tee\n",
        "from pyomo.environ import *\n",
        "from riverpol import model\n",
        "instance = model.create_instance('riverpol.dat')\n",
        "instance.pprint()\n",
        "opt = SolverFactory('cplex')\n",
        "results = opt.solve(instance, tee=True)\n",
        "instance.write('problem.lp')\n",
        "\n",
        "print(instance.cost())\n"
      ],
      "metadata": {
        "id": "rkW5Mz_m5tQY"
      },
      "execution_count": null,
      "outputs": []
    },
    {
      "cell_type": "code",
      "source": [
        "!pip install -q pyomo\n",
        "from math import inf\n",
        "from pyomo.environ import*\n",
        "\n",
        "\n",
        "model = AbstractModel()\n",
        "\n",
        "model.I = Set() # Set of Energy Production\n",
        "model.J = Set() # Set of Fuels\n",
        "\n",
        "# Parameters Definition\n",
        "# ri - revenue for producing/selling energy type i [$/m3]\n",
        "model.r    = Param(model.I, within=PositiveReals)\n",
        "# qij - Fuel type j used for energy production type i [kg/m3]\n",
        "model.q    = Param(model.I, model.J, within=NonNegativeReals)\n",
        "# bj - max available stock of fuel type j\n",
        "model.b = Param(model.J,within=NonNegativeReals)\n",
        "\n",
        "# gi - necessary proportions of energy type i\n",
        "model.g = Param(model.I,within=NonNegativeReals)\n",
        "\n",
        "# Decision Variables Definition\n",
        "model.x = Var(model.I, within=NonNegativeReals) # xi - amount of energy type i to produce\n",
        "\n",
        "# Objective Function - Maximize the cost of waste treatment to reduce pollutants\n",
        "def cost_rule(model):\n",
        "    return sum(model.r[i]*model.x[i] for i in model.I)\n",
        "model.cost = Objective(rule=cost_rule,sense=maximize)\n",
        "\n",
        "# Constraints - Satisfy max available fuel type j volume\n",
        "def fuel_rule(model, j):\n",
        "    return sum(model.q[i,j]*model.x[i] for i in model.I) <= model.b[j]\n",
        "model.fueltype_constraints = Constraint(model.J, rule=fuel_rule)\n",
        "\n",
        "def prop_rule(model):\n",
        "\treturn sum(model.g[i]*model.x[i] for i in model.I) >= 0\n",
        "model.proprule = Constraint(rule=prop_rule)\n"
      ],
      "metadata": {
        "id": "YxK61914VNO-"
      },
      "execution_count": 16,
      "outputs": []
    },
    {
      "cell_type": "code",
      "source": [
        "!apt-get install -y glpk-utils\n",
        "import os\n",
        "os.environ['PATH'] += ':/usr/bin'  # Add the directory containing glpk to PATH\n",
        "# Restart the kernel here. You can do this manually or by running the following in a code cell:\n",
        "# !kill -9 -1\n",
        "instance = model.create_instance('biogas.dat')\n",
        "instance.pprint()\n",
        "opt = SolverFactory('glpk')\n",
        "results = opt.solve(instance, tee=True)\n",
        "print(instance.display())"
      ],
      "metadata": {
        "colab": {
          "base_uri": "https://localhost:8080/",
          "height": 1000
        },
        "id": "mxxXvJyiYw1O",
        "outputId": "d537d730-816b-48aa-e3ab-7f8a0daa48e3"
      },
      "execution_count": 15,
      "outputs": [
        {
          "output_type": "stream",
          "name": "stdout",
          "text": [
            "Reading package lists... Done\n",
            "Building dependency tree... Done\n",
            "Reading state information... Done\n",
            "glpk-utils is already the newest version (5.0-1).\n",
            "0 upgraded, 0 newly installed, 0 to remove and 49 not upgraded.\n"
          ]
        },
        {
          "output_type": "stream",
          "name": "stderr",
          "text": [
            "WARNING:pyomo.solvers:Could not locate the 'glpsol' executable, which is required for solver 'glpk'\n"
          ]
        },
        {
          "output_type": "stream",
          "name": "stdout",
          "text": [
            "2 Set Declarations\n",
            "    I : Size=1, Index=None, Ordered=Insertion\n",
            "        Key  : Dimen : Domain : Size : Members\n",
            "        None :     1 :    Any :    2 : {'biomass', 'biomethane'}\n",
            "    J : Size=1, Index=None, Ordered=Insertion\n",
            "        Key  : Dimen : Domain : Size : Members\n",
            "        None :     1 :    Any :    2 : {'horsedrop', 'liqmanure'}\n",
            "\n",
            "4 Param Declarations\n",
            "    b : Size=2, Index=J, Domain=NonNegativeReals, Default=None, Mutable=False\n",
            "        Key       : Value\n",
            "        horsedrop : 126.0\n",
            "        liqmanure :  84.0\n",
            "    g : Size=2, Index=I, Domain=NonNegativeReals, Default=None, Mutable=False\n",
            "        Key        : Value\n",
            "           biomass :   2.0\n",
            "        biomethane :   1.0\n",
            "    q : Size=4, Index=I*J, Domain=NonNegativeReals, Default=None, Mutable=False\n",
            "        Key                         : Value\n",
            "           ('biomass', 'horsedrop') :   8.0\n",
            "           ('biomass', 'liqmanure') :   2.0\n",
            "        ('biomethane', 'horsedrop') :   3.0\n",
            "        ('biomethane', 'liqmanure') :   6.0\n",
            "    r : Size=2, Index=I, Domain=PositiveReals, Default=None, Mutable=False\n",
            "        Key        : Value\n",
            "           biomass :  75.0\n",
            "        biomethane :  50.0\n",
            "\n",
            "1 Var Declarations\n",
            "    x : Size=2, Index=I\n",
            "        Key        : Lower : Value : Upper : Fixed : Stale : Domain\n",
            "           biomass :     0 :  None :  None : False :  True : NonNegativeReals\n",
            "        biomethane :     0 :  None :  None : False :  True : NonNegativeReals\n",
            "\n",
            "1 Objective Declarations\n",
            "    cost : Size=1, Index=None, Active=True\n",
            "        Key  : Active : Sense    : Expression\n",
            "        None :   True : maximize : 75.0*x[biomass] + 50.0*x[biomethane]\n",
            "\n",
            "2 Constraint Declarations\n",
            "    fueltype_constraints : Size=2, Index=J, Active=True\n",
            "        Key       : Lower : Body                               : Upper : Active\n",
            "        horsedrop :  -Inf : 8.0*x[biomass] + 3.0*x[biomethane] : 126.0 :   True\n",
            "        liqmanure :  -Inf : 2.0*x[biomass] + 6.0*x[biomethane] :  84.0 :   True\n",
            "    proprule : Size=1, Index=None, Active=True\n",
            "        Key  : Lower : Body                           : Upper : Active\n",
            "        None :   0.0 : 2.0*x[biomass] + x[biomethane] :  +Inf :   True\n",
            "\n",
            "10 Declarations: I J r q b g x cost fueltype_constraints proprule\n"
          ]
        },
        {
          "output_type": "error",
          "ename": "ApplicationError",
          "evalue": "No executable found for solver 'glpk'",
          "traceback": [
            "\u001b[0;31m---------------------------------------------------------------------------\u001b[0m",
            "\u001b[0;31mApplicationError\u001b[0m                          Traceback (most recent call last)",
            "\u001b[0;32m<ipython-input-15-57c52a6a8ab7>\u001b[0m in \u001b[0;36m<cell line: 9>\u001b[0;34m()\u001b[0m\n\u001b[1;32m      7\u001b[0m \u001b[0minstance\u001b[0m\u001b[0;34m.\u001b[0m\u001b[0mpprint\u001b[0m\u001b[0;34m(\u001b[0m\u001b[0;34m)\u001b[0m\u001b[0;34m\u001b[0m\u001b[0;34m\u001b[0m\u001b[0m\n\u001b[1;32m      8\u001b[0m \u001b[0mopt\u001b[0m \u001b[0;34m=\u001b[0m \u001b[0mSolverFactory\u001b[0m\u001b[0;34m(\u001b[0m\u001b[0;34m'glpk'\u001b[0m\u001b[0;34m)\u001b[0m\u001b[0;34m\u001b[0m\u001b[0;34m\u001b[0m\u001b[0m\n\u001b[0;32m----> 9\u001b[0;31m \u001b[0mresults\u001b[0m \u001b[0;34m=\u001b[0m \u001b[0mopt\u001b[0m\u001b[0;34m.\u001b[0m\u001b[0msolve\u001b[0m\u001b[0;34m(\u001b[0m\u001b[0minstance\u001b[0m\u001b[0;34m,\u001b[0m \u001b[0mtee\u001b[0m\u001b[0;34m=\u001b[0m\u001b[0;32mTrue\u001b[0m\u001b[0;34m)\u001b[0m\u001b[0;34m\u001b[0m\u001b[0;34m\u001b[0m\u001b[0m\n\u001b[0m\u001b[1;32m     10\u001b[0m \u001b[0mprint\u001b[0m\u001b[0;34m(\u001b[0m\u001b[0minstance\u001b[0m\u001b[0;34m.\u001b[0m\u001b[0mdisplay\u001b[0m\u001b[0;34m(\u001b[0m\u001b[0;34m)\u001b[0m\u001b[0;34m)\u001b[0m\u001b[0;34m\u001b[0m\u001b[0;34m\u001b[0m\u001b[0m\n",
            "\u001b[0;32m/usr/local/lib/python3.10/dist-packages/pyomo/opt/base/solvers.py\u001b[0m in \u001b[0;36msolve\u001b[0;34m(self, *args, **kwds)\u001b[0m\n\u001b[1;32m    532\u001b[0m         \u001b[0;34m\"\"\"Solve the problem\"\"\"\u001b[0m\u001b[0;34m\u001b[0m\u001b[0;34m\u001b[0m\u001b[0m\n\u001b[1;32m    533\u001b[0m \u001b[0;34m\u001b[0m\u001b[0m\n\u001b[0;32m--> 534\u001b[0;31m         \u001b[0mself\u001b[0m\u001b[0;34m.\u001b[0m\u001b[0mavailable\u001b[0m\u001b[0;34m(\u001b[0m\u001b[0mexception_flag\u001b[0m\u001b[0;34m=\u001b[0m\u001b[0;32mTrue\u001b[0m\u001b[0;34m)\u001b[0m\u001b[0;34m\u001b[0m\u001b[0;34m\u001b[0m\u001b[0m\n\u001b[0m\u001b[1;32m    535\u001b[0m         \u001b[0;31m#\u001b[0m\u001b[0;34m\u001b[0m\u001b[0;34m\u001b[0m\u001b[0m\n\u001b[1;32m    536\u001b[0m         \u001b[0;31m# If the inputs are models, then validate that they have been\u001b[0m\u001b[0;34m\u001b[0m\u001b[0;34m\u001b[0m\u001b[0m\n",
            "\u001b[0;32m/usr/local/lib/python3.10/dist-packages/pyomo/opt/solver/shellcmd.py\u001b[0m in \u001b[0;36mavailable\u001b[0;34m(self, exception_flag)\u001b[0m\n\u001b[1;32m    138\u001b[0m             \u001b[0;32mif\u001b[0m \u001b[0mexception_flag\u001b[0m\u001b[0;34m:\u001b[0m\u001b[0;34m\u001b[0m\u001b[0;34m\u001b[0m\u001b[0m\n\u001b[1;32m    139\u001b[0m                 \u001b[0mmsg\u001b[0m \u001b[0;34m=\u001b[0m \u001b[0;34m\"No executable found for solver '%s'\"\u001b[0m\u001b[0;34m\u001b[0m\u001b[0;34m\u001b[0m\u001b[0m\n\u001b[0;32m--> 140\u001b[0;31m                 \u001b[0;32mraise\u001b[0m \u001b[0mApplicationError\u001b[0m\u001b[0;34m(\u001b[0m\u001b[0mmsg\u001b[0m \u001b[0;34m%\u001b[0m \u001b[0mself\u001b[0m\u001b[0;34m.\u001b[0m\u001b[0mname\u001b[0m\u001b[0;34m)\u001b[0m\u001b[0;34m\u001b[0m\u001b[0;34m\u001b[0m\u001b[0m\n\u001b[0m\u001b[1;32m    141\u001b[0m             \u001b[0;32mreturn\u001b[0m \u001b[0;32mFalse\u001b[0m\u001b[0;34m\u001b[0m\u001b[0;34m\u001b[0m\u001b[0m\n\u001b[1;32m    142\u001b[0m         \u001b[0;32mreturn\u001b[0m \u001b[0;32mTrue\u001b[0m\u001b[0;34m\u001b[0m\u001b[0;34m\u001b[0m\u001b[0m\n",
            "\u001b[0;31mApplicationError\u001b[0m: No executable found for solver 'glpk'"
          ]
        }
      ]
    },
    {
      "cell_type": "code",
      "source": [
        "!apt-get install -y glpk-utils\n",
        "instance = model.create_instance('biogas.dat')\n",
        "instance.pprint()\n",
        "opt = SolverFactory('glpk')\n",
        "results = opt.solve(instance, tee=True)\n",
        "print(instance.display())"
      ],
      "metadata": {
        "colab": {
          "base_uri": "https://localhost:8080/",
          "height": 1000
        },
        "id": "QJaQUW53VmJe",
        "outputId": "1b1ef1b9-d45a-4df5-ff33-62265bd1721d"
      },
      "execution_count": 17,
      "outputs": [
        {
          "output_type": "stream",
          "name": "stdout",
          "text": [
            "Reading package lists... Done\n",
            "Building dependency tree... Done\n",
            "Reading state information... Done\n",
            "glpk-utils is already the newest version (5.0-1).\n",
            "0 upgraded, 0 newly installed, 0 to remove and 49 not upgraded.\n"
          ]
        },
        {
          "output_type": "stream",
          "name": "stderr",
          "text": [
            "WARNING:pyomo.solvers:Could not locate the 'glpsol' executable, which is required for solver 'glpk'\n"
          ]
        },
        {
          "output_type": "stream",
          "name": "stdout",
          "text": [
            "2 Set Declarations\n",
            "    I : Size=1, Index=None, Ordered=Insertion\n",
            "        Key  : Dimen : Domain : Size : Members\n",
            "        None :     1 :    Any :    2 : {'biomass', 'biomethane'}\n",
            "    J : Size=1, Index=None, Ordered=Insertion\n",
            "        Key  : Dimen : Domain : Size : Members\n",
            "        None :     1 :    Any :    2 : {'horsedrop', 'liqmanure'}\n",
            "\n",
            "4 Param Declarations\n",
            "    b : Size=2, Index=J, Domain=NonNegativeReals, Default=None, Mutable=False\n",
            "        Key       : Value\n",
            "        horsedrop : 126.0\n",
            "        liqmanure :  84.0\n",
            "    g : Size=2, Index=I, Domain=NonNegativeReals, Default=None, Mutable=False\n",
            "        Key        : Value\n",
            "           biomass :   2.0\n",
            "        biomethane :   1.0\n",
            "    q : Size=4, Index=I*J, Domain=NonNegativeReals, Default=None, Mutable=False\n",
            "        Key                         : Value\n",
            "           ('biomass', 'horsedrop') :   8.0\n",
            "           ('biomass', 'liqmanure') :   2.0\n",
            "        ('biomethane', 'horsedrop') :   3.0\n",
            "        ('biomethane', 'liqmanure') :   6.0\n",
            "    r : Size=2, Index=I, Domain=PositiveReals, Default=None, Mutable=False\n",
            "        Key        : Value\n",
            "           biomass :  75.0\n",
            "        biomethane :  50.0\n",
            "\n",
            "1 Var Declarations\n",
            "    x : Size=2, Index=I\n",
            "        Key        : Lower : Value : Upper : Fixed : Stale : Domain\n",
            "           biomass :     0 :  None :  None : False :  True : NonNegativeReals\n",
            "        biomethane :     0 :  None :  None : False :  True : NonNegativeReals\n",
            "\n",
            "1 Objective Declarations\n",
            "    cost : Size=1, Index=None, Active=True\n",
            "        Key  : Active : Sense    : Expression\n",
            "        None :   True : maximize : 75.0*x[biomass] + 50.0*x[biomethane]\n",
            "\n",
            "2 Constraint Declarations\n",
            "    fueltype_constraints : Size=2, Index=J, Active=True\n",
            "        Key       : Lower : Body                               : Upper : Active\n",
            "        horsedrop :  -Inf : 8.0*x[biomass] + 3.0*x[biomethane] : 126.0 :   True\n",
            "        liqmanure :  -Inf : 2.0*x[biomass] + 6.0*x[biomethane] :  84.0 :   True\n",
            "    proprule : Size=1, Index=None, Active=True\n",
            "        Key  : Lower : Body                           : Upper : Active\n",
            "        None :   0.0 : 2.0*x[biomass] + x[biomethane] :  +Inf :   True\n",
            "\n",
            "10 Declarations: I J r q b g x cost fueltype_constraints proprule\n"
          ]
        },
        {
          "output_type": "error",
          "ename": "ApplicationError",
          "evalue": "No executable found for solver 'glpk'",
          "traceback": [
            "\u001b[0;31m---------------------------------------------------------------------------\u001b[0m",
            "\u001b[0;31mApplicationError\u001b[0m                          Traceback (most recent call last)",
            "\u001b[0;32m<ipython-input-17-dd589e67f686>\u001b[0m in \u001b[0;36m<cell line: 5>\u001b[0;34m()\u001b[0m\n\u001b[1;32m      3\u001b[0m \u001b[0minstance\u001b[0m\u001b[0;34m.\u001b[0m\u001b[0mpprint\u001b[0m\u001b[0;34m(\u001b[0m\u001b[0;34m)\u001b[0m\u001b[0;34m\u001b[0m\u001b[0;34m\u001b[0m\u001b[0m\n\u001b[1;32m      4\u001b[0m \u001b[0mopt\u001b[0m \u001b[0;34m=\u001b[0m \u001b[0mSolverFactory\u001b[0m\u001b[0;34m(\u001b[0m\u001b[0;34m'glpk'\u001b[0m\u001b[0;34m)\u001b[0m\u001b[0;34m\u001b[0m\u001b[0;34m\u001b[0m\u001b[0m\n\u001b[0;32m----> 5\u001b[0;31m \u001b[0mresults\u001b[0m \u001b[0;34m=\u001b[0m \u001b[0mopt\u001b[0m\u001b[0;34m.\u001b[0m\u001b[0msolve\u001b[0m\u001b[0;34m(\u001b[0m\u001b[0minstance\u001b[0m\u001b[0;34m,\u001b[0m \u001b[0mtee\u001b[0m\u001b[0;34m=\u001b[0m\u001b[0;32mTrue\u001b[0m\u001b[0;34m)\u001b[0m\u001b[0;34m\u001b[0m\u001b[0;34m\u001b[0m\u001b[0m\n\u001b[0m\u001b[1;32m      6\u001b[0m \u001b[0mprint\u001b[0m\u001b[0;34m(\u001b[0m\u001b[0minstance\u001b[0m\u001b[0;34m.\u001b[0m\u001b[0mdisplay\u001b[0m\u001b[0;34m(\u001b[0m\u001b[0;34m)\u001b[0m\u001b[0;34m)\u001b[0m\u001b[0;34m\u001b[0m\u001b[0;34m\u001b[0m\u001b[0m\n",
            "\u001b[0;32m/usr/local/lib/python3.10/dist-packages/pyomo/opt/base/solvers.py\u001b[0m in \u001b[0;36msolve\u001b[0;34m(self, *args, **kwds)\u001b[0m\n\u001b[1;32m    532\u001b[0m         \u001b[0;34m\"\"\"Solve the problem\"\"\"\u001b[0m\u001b[0;34m\u001b[0m\u001b[0;34m\u001b[0m\u001b[0m\n\u001b[1;32m    533\u001b[0m \u001b[0;34m\u001b[0m\u001b[0m\n\u001b[0;32m--> 534\u001b[0;31m         \u001b[0mself\u001b[0m\u001b[0;34m.\u001b[0m\u001b[0mavailable\u001b[0m\u001b[0;34m(\u001b[0m\u001b[0mexception_flag\u001b[0m\u001b[0;34m=\u001b[0m\u001b[0;32mTrue\u001b[0m\u001b[0;34m)\u001b[0m\u001b[0;34m\u001b[0m\u001b[0;34m\u001b[0m\u001b[0m\n\u001b[0m\u001b[1;32m    535\u001b[0m         \u001b[0;31m#\u001b[0m\u001b[0;34m\u001b[0m\u001b[0;34m\u001b[0m\u001b[0m\n\u001b[1;32m    536\u001b[0m         \u001b[0;31m# If the inputs are models, then validate that they have been\u001b[0m\u001b[0;34m\u001b[0m\u001b[0;34m\u001b[0m\u001b[0m\n",
            "\u001b[0;32m/usr/local/lib/python3.10/dist-packages/pyomo/opt/solver/shellcmd.py\u001b[0m in \u001b[0;36mavailable\u001b[0;34m(self, exception_flag)\u001b[0m\n\u001b[1;32m    138\u001b[0m             \u001b[0;32mif\u001b[0m \u001b[0mexception_flag\u001b[0m\u001b[0;34m:\u001b[0m\u001b[0;34m\u001b[0m\u001b[0;34m\u001b[0m\u001b[0m\n\u001b[1;32m    139\u001b[0m                 \u001b[0mmsg\u001b[0m \u001b[0;34m=\u001b[0m \u001b[0;34m\"No executable found for solver '%s'\"\u001b[0m\u001b[0;34m\u001b[0m\u001b[0;34m\u001b[0m\u001b[0m\n\u001b[0;32m--> 140\u001b[0;31m                 \u001b[0;32mraise\u001b[0m \u001b[0mApplicationError\u001b[0m\u001b[0;34m(\u001b[0m\u001b[0mmsg\u001b[0m \u001b[0;34m%\u001b[0m \u001b[0mself\u001b[0m\u001b[0;34m.\u001b[0m\u001b[0mname\u001b[0m\u001b[0;34m)\u001b[0m\u001b[0;34m\u001b[0m\u001b[0;34m\u001b[0m\u001b[0m\n\u001b[0m\u001b[1;32m    141\u001b[0m             \u001b[0;32mreturn\u001b[0m \u001b[0;32mFalse\u001b[0m\u001b[0;34m\u001b[0m\u001b[0;34m\u001b[0m\u001b[0m\n\u001b[1;32m    142\u001b[0m         \u001b[0;32mreturn\u001b[0m \u001b[0;32mTrue\u001b[0m\u001b[0;34m\u001b[0m\u001b[0;34m\u001b[0m\u001b[0m\n",
            "\u001b[0;31mApplicationError\u001b[0m: No executable found for solver 'glpk'"
          ]
        }
      ]
    },
    {
      "cell_type": "code",
      "source": [],
      "metadata": {
        "id": "C_jYldRFWPun"
      },
      "execution_count": null,
      "outputs": []
    }
  ]
}